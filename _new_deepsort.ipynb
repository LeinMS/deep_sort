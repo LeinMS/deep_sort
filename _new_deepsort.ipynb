{
  "nbformat": 4,
  "nbformat_minor": 0,
  "metadata": {
    "colab": {
      "provenance": [],
      "authorship_tag": "ABX9TyPg2jN8i08msc7RMgnDMzhf",
      "include_colab_link": true
    },
    "kernelspec": {
      "name": "python3",
      "display_name": "Python 3"
    },
    "language_info": {
      "name": "python"
    }
  },
  "cells": [
    {
      "cell_type": "markdown",
      "metadata": {
        "id": "view-in-github",
        "colab_type": "text"
      },
      "source": [
        "<a href=\"https://colab.research.google.com/github/LeinMS/deep_sort/blob/develop/_new_deepsort.ipynb\" target=\"_parent\"><img src=\"https://colab.research.google.com/assets/colab-badge.svg\" alt=\"Open In Colab\"/></a>"
      ]
    },
    {
      "cell_type": "code",
      "execution_count": null,
      "metadata": {
        "id": "bI9dzSuEc05S"
      },
      "outputs": [],
      "source": [
        "# Clone repository\n",
        "\n",
        "!git clone --branch develop --single-branch https://github.com/LeinMS/deep_sort.git\n",
        "\n",
        "# Setup work directory\n",
        "import os\n",
        "os.chdir(\"deep_sort\")"
      ]
    },
    {
      "cell_type": "code",
      "source": [
        "# Install main dependencies\n",
        "\n",
        "!pip install -r requirements.txt -q\n",
        "!pip install ultralytics gdown torchreid -q"
      ],
      "metadata": {
        "id": "RPl-t_jec3xi"
      },
      "execution_count": null,
      "outputs": []
    },
    {
      "cell_type": "code",
      "source": [
        "# GPU avaliability check\n",
        "\n",
        "import torch\n",
        "print(\"✅ CUDA available:\", torch.cuda.is_available())"
      ],
      "metadata": {
        "colab": {
          "base_uri": "https://localhost:8080/"
        },
        "id": "mmK96gDbc30C",
        "outputId": "e8d2956e-8c9a-464f-9601-0103720bf59d"
      },
      "execution_count": null,
      "outputs": [
        {
          "output_type": "stream",
          "name": "stdout",
          "text": [
            "✅ CUDA available: True\n"
          ]
        }
      ]
    },
    {
      "cell_type": "code",
      "source": [
        "!rm -r \"/content/deep_sort/outputs\"\n",
        "!rm -r \"/content/deep_sort/videos\"\n",
        "!rm -r \"/content/deep_sort/resources\""
      ],
      "metadata": {
        "colab": {
          "base_uri": "https://localhost:8080/"
        },
        "id": "SlfoTwuafVJf",
        "outputId": "692e5060-d0dd-4e51-8831-784bb7877a6a"
      },
      "execution_count": null,
      "outputs": [
        {
          "output_type": "stream",
          "name": "stdout",
          "text": [
            "rm: cannot remove '/content/deep_sort/outputs': No such file or directory\n",
            "rm: cannot remove '/content/deep_sort/videos': No such file or directory\n",
            "rm: cannot remove '/content/deep_sort/resources': No such file or directory\n"
          ]
        }
      ]
    },
    {
      "cell_type": "code",
      "source": [
        "# Download weights and other components\n",
        "# ⚠️ ВАЖНО: Загрузка через gdown может не сработать для публичных Google Drive папок.\n",
        "# В этом случае скачайте содержимое вручную по следующим ссылкам и разместите в соответствующих папках:\n",
        "# - https://drive.google.com/drive/folders/1KMdGJDkM51LdCm0937WvffTG4h4NV-3N?usp=sharing\n",
        "# - https://drive.google.com/drive/folders/1PIGAQsKuuG0C249ZaEf62IMDT2y2_AGM?usp=sharing\n",
        "# - https://drive.google.com/drive/folders/1iKBVBsply5vgBrk597QPvGYts4Z8U5x7?usp=sharing\n",
        "import gdown\n",
        "\n",
        "list_of_links = [\n",
        "    \"https://drive.google.com/drive/folders/1KMdGJDkM51LdCm0937WvffTG4h4NV-3N?usp=sharing\",\n",
        "    \"https://drive.google.com/drive/folders/1PIGAQsKuuG0C249ZaEf62IMDT2y2_AGM?usp=sharing\",\n",
        "    \"https://drive.google.com/drive/folders/1iKBVBsply5vgBrk597QPvGYts4Z8U5x7?usp=sharing\"\n",
        "]\n",
        "\n",
        "for link in list_of_links:\n",
        "  gdown.download_folder(\n",
        "      url=link,\n",
        "      output='/content/deep_sort/',\n",
        "      quiet=False,\n",
        "      use_cookies=True\n",
        "  )\n"
      ],
      "metadata": {
        "collapsed": true,
        "id": "DV2ZtKHLc32r"
      },
      "execution_count": null,
      "outputs": []
    },
    {
      "cell_type": "code",
      "source": [
        "# Launch a first configuration SSD and Resnet18\n",
        "\n",
        "import os\n",
        "from moviepy.editor import VideoFileClip\n",
        "from IPython.display import display\n",
        "\n",
        "!python run_batch.py configs/yolov8_mobilenetv2.yaml\n",
        "\n",
        "\n",
        "folder = \"outputs/ssdlite320_mbv3_resnet18\"\n",
        "\n",
        "for filename in sorted(os.listdir(folder)):\n",
        "    if filename.endswith(\".mp4\"):\n",
        "        path = os.path.join(folder, filename)\n",
        "        print(f\"Showing: {filename}\")\n",
        "        clip = VideoFileClip(path)\n",
        "        display(clip.ipython_display())\n",
        "\n"
      ],
      "metadata": {
        "collapsed": true,
        "id": "2WqEIkBmc35a"
      },
      "execution_count": null,
      "outputs": []
    },
    {
      "cell_type": "code",
      "source": [
        "# Launch a second configuration YOLOv5 and osnet_x0_25\n",
        "\n",
        "import os\n",
        "from moviepy.editor import VideoFileClip\n",
        "from IPython.display import display\n",
        "\n",
        "!python run_batch.py configs/yolov5_torchreid.yaml\n",
        "\n",
        "\n",
        "folder = \"outputs/yolov5_torchreid\"\n",
        "\n",
        "for filename in sorted(os.listdir(folder)):\n",
        "    if filename.endswith(\".mp4\"):\n",
        "        path = os.path.join(folder, filename)\n",
        "        print(f\"Showing: {filename}\")\n",
        "        clip = VideoFileClip(path)\n",
        "        display(clip.ipython_display())\n",
        "\n"
      ],
      "metadata": {
        "collapsed": true,
        "id": "XokkGr4J9iyw"
      },
      "execution_count": null,
      "outputs": []
    },
    {
      "cell_type": "code",
      "source": [
        "# Launch a third configuration YOLOv8 and mobilenetv2_x1_0\n",
        "\n",
        "import os\n",
        "from moviepy.editor import VideoFileClip\n",
        "from IPython.display import display\n",
        "\n",
        "!python run_batch.py configs/yolov8_mobilenetv2.yaml\n",
        "\n",
        "\n",
        "folder = \"outputs/yolov8_mobilenetv2\"\n",
        "\n",
        "for filename in sorted(os.listdir(folder)):\n",
        "    if filename.endswith(\".mp4\"):\n",
        "        path = os.path.join(folder, filename)\n",
        "        print(f\"Showing: {filename}\")\n",
        "        clip = VideoFileClip(path)\n",
        "        display(clip.ipython_display())\n",
        "\n"
      ],
      "metadata": {
        "id": "HhSS5u-DHmoa"
      },
      "execution_count": null,
      "outputs": []
    },
    {
      "cell_type": "code",
      "source": [],
      "metadata": {
        "id": "r4UfSt4HHmtY"
      },
      "execution_count": null,
      "outputs": []
    }
  ]
}